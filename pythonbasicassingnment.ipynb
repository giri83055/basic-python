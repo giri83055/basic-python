{
 "cells": [
  {
   "cell_type": "markdown",
   "metadata": {},
   "source": [
    "Python Basics Questions"
   ]
  },
  {
   "cell_type": "markdown",
   "metadata": {},
   "source": [
    "1-> What is Python, and why is it popular ?\n",
    "Ans-> * Python is a programming language that is easy to understand and write , making it a popular choice among developers and programmers. \n",
    "      * It is compatible with various programming paradigms, such as procedural, object-oriented, and functional programming. \n",
    "      * Python has a large and active community of developers, an extensive standard library, and third-party packages for various domains. "
   ]
  },
  {
   "cell_type": "markdown",
   "metadata": {},
   "source": [
    "2->   What is an interpreter in Python ?\n",
    "ans-> * An interpreter in Python is a program that reads and executes Python code line by line.\n",
    "      * It  translates the code into a format that the computer can understand and perform the operations specified in the code.\n",
    "      * When you run a Python script, the interpreter goes through each line of the code, \n",
    "      * interprets it, and then executes the corresponding instructions. \n",
    "\n",
    " "
   ]
  },
  {
   "cell_type": "markdown",
   "metadata": {},
   "source": [
    "3->  What are pre-defined keywords in Python ?\n",
    "ans->Predefined keywords \n",
    "    *  Keywords are reserved words in Python that have special meanings and cannot be used as identifiers (variable names, function names, etc.). \n",
    "    * Examples of keywords include if, else, while, for, def, class, import, try, except, return, True, False, None, etc.\n",
    "    * Keywords are case-sensitive and cannot be redefined or overridden within a Python program.\n",
    "   "
   ]
  },
  {
   "cell_type": "markdown",
   "metadata": {},
   "source": [
    "4-> Can keywords be used as variable names?\n",
    "ans-> no, keywords can't be used as variable names ,beacause keywords are resevered word and case sensitive "
   ]
  },
  {
   "cell_type": "markdown",
   "metadata": {},
   "source": [
    "5->   What is mutability in Python ?\n",
    "ans-> \n",
    "      * objects/container whose state or value can be changed after they are created are\n",
    "        called as mutable objects or container, "
   ]
  },
  {
   "cell_type": "markdown",
   "metadata": {},
   "source": [
    "6-> Why are lists mutable, but tuples are immutable ?\n",
    "ans-> * list is a type of mutable object/supports item assignment ,because list are changeable and modified values after assing.\n",
    "      * The tuple consists of a string and a list. Strings are immutable so we can’t change their value. so it is immutable.\n",
    "    "
   ]
  },
  {
   "cell_type": "markdown",
   "metadata": {},
   "source": [
    "7-> What is the difference between “==” and “is” operators in Python ?\n",
    "ans=> * \"==\" equal operators that the define both are same or equal.\n",
    "      * \"is \" operators is used might have assigned both to the same memory location for optimization.\n"
   ]
  },
  {
   "cell_type": "markdown",
   "metadata": {},
   "source": [
    "8-> What are logical operators in Python ?\n",
    "ans-> * Logical Operators in Python\n",
    "\n",
    "       * 1. and: Returns True if both operands are True.\n",
    "          * x = True\n",
    "          *y = False\n",
    "        *print(x and y)  # Output: False\n",
    "        *print(x or y)  # Output: True\n",
    "        *2. or Returns true if at least one operand is true.\n",
    "        *3. not: Returns the opposite of the operand's truth value.\n",
    "           *print(not x)  # Output: False\n",
    "           *print(not y)  # Output: True\n",
    "\n"
   ]
  },
  {
   "cell_type": "markdown",
   "metadata": {},
   "source": [
    "9-> What is type casting in Python ?\n",
    "ans->  *Type casting \n",
    "       * Type casting/type conversion>> The preocess of changing the data type of a value/object\n",
    "      *Type casting, also referred to as type conversion, is the process of changing one data type to another in Python. \n",
    "      *Python provides built-in functions for type casting, such as int(), float(), str(), list(), tuple(), dict(), etc.\n",
    "      *Type casting is often necessary for performing arithmetic operations, data manipulation, and input/output operations in Python programs"
   ]
  },
  {
   "cell_type": "markdown",
   "metadata": {},
   "source": [
    "10 ->  What is the difference between implicit and explicit type casting ?\n",
    "ans->  * Typecasting>> implicit and explicit\n",
    "       1.* implicit typecasting >> python understand the datatype\n",
    "       * example >> a = 5\n",
    "                  tpye(a)\n",
    "                  int\n",
    "       2. * explicit typecasting >> convert data type using inbuilt functiond>> str, int, float, bool\n",
    "           example a = \"2\"\n",
    "                   type (Ia)\n",
    "                   str\n",
    "         "
   ]
  },
  {
   "cell_type": "markdown",
   "metadata": {},
   "source": [
    "11-> What is the purpose of conditional statements in Python ?\n",
    "ans-> * Conditional statements in Python are used to execute certain blocks of code based on specific conditions\n",
    "      *These statements help control the flow of a program, making it behave differently in different situations. If statement is the simplest form of a conditional statement. It executes a block of code if the given condition is true."
   ]
  },
  {
   "cell_type": "markdown",
   "metadata": {},
   "source": [
    "12-> How does the elif statement work ?\n",
    "ans-> * the elif conditions are applied after the if condition\n",
    "      * Python will evalute the if condition and if it evaluates to False then it will evalute the elif blocks and execute the elif block \n",
    "      *  If multiple elif conditions become True, then the first elif block will be executed."
   ]
  },
  {
   "cell_type": "markdown",
   "metadata": {},
   "source": [
    "13-> What is the difference between for and while loops ?\n",
    "ans->  * while >> repeatedly executed a block of code untill a condition is met.\n",
    "       * For >> iterate over a sequence of elents >> strings , list."
   ]
  },
  {
   "cell_type": "markdown",
   "metadata": {},
   "source": [
    "14->Describe a scenario where a while loop is more suitable than a for loop.\n",
    "ans->  *Scenario: User input validation\n",
    "       * A while loop is more suitable when you need to repeatedly prompt a user for input until they provide valid data. \n",
    "       "
   ]
  },
  {
   "cell_type": "markdown",
   "metadata": {},
   "source": [
    "Practical Questions"
   ]
  },
  {
   "cell_type": "code",
   "execution_count": 1,
   "metadata": {},
   "outputs": [
    {
     "name": "stdout",
     "output_type": "stream",
     "text": [
      "hello world!\n"
     ]
    }
   ],
   "source": [
    "# 1->  Write a Python program to print \"Hello, World!\n",
    "# Ans >>\n",
    "print(\"hello world!\")"
   ]
  },
  {
   "cell_type": "code",
   "execution_count": 2,
   "metadata": {},
   "outputs": [
    {
     "name": "stdout",
     "output_type": "stream",
     "text": [
      "my name is shubham chouhan\n",
      "i am 21 years old\n"
     ]
    }
   ],
   "source": [
    "# 2-> Write a Python program that displays your name and age.\n",
    "# Ans -> \n",
    "name = \"shubham chouhan\"\n",
    "age = 21\n",
    "print(\"my name is\", name)\n",
    "print(\"i am\",age ,\"years old\")"
   ]
  },
  {
   "cell_type": "code",
   "execution_count": 1,
   "metadata": {},
   "outputs": [
    {
     "name": "stdout",
     "output_type": "stream",
     "text": [
      "['False', 'None', 'True', 'and', 'as', 'assert', 'async', 'await', 'break', 'class', 'continue', 'def', 'del', 'elif', 'else', 'except', 'finally', 'for', 'from', 'global', 'if', 'import', 'in', 'is', 'lambda', 'nonlocal', 'not', 'or', 'pass', 'raise', 'return', 'try', 'while', 'with', 'yield']  "
     ]
    }
   ],
   "source": [
    "# 3-> Write code to print all the pre-defined keywords in Python using the keyword library.\n",
    "#ans->\n",
    "\n",
    "import keyword\n",
    "\n",
    "print(keyword.kwlist,end=\"  \")"
   ]
  },
  {
   "cell_type": "code",
   "execution_count": 3,
   "metadata": {},
   "outputs": [
    {
     "name": "stdout",
     "output_type": "stream",
     "text": [
      "your enter word is keyword\n"
     ]
    }
   ],
   "source": [
    "#4-> Write a program that checks if a given word is a Python keyword.\n",
    "#Ans->> \n",
    "import keyword\n",
    "s = input(\"enter  any word\")\n",
    "if keyword.iskeyword:\n",
    "    print(\"your enter word is keyword\")\n",
    "else:\n",
    "    print(\"your enter word is not keyword\")"
   ]
  },
  {
   "cell_type": "code",
   "execution_count": 4,
   "metadata": {},
   "outputs": [
    {
     "name": "stdout",
     "output_type": "stream",
     "text": [
      "Modified List: ['raja', 2, 3, 4, 5, 6, 'ajay', 'shubham']\n",
      "Error: 'tuple' object does not support item assignment\n"
     ]
    }
   ],
   "source": [
    "#5->  Create a list and tuple in Python, and demonstrate how attempting to change an element works differently for each.\n",
    "#Ans-> \n",
    "my_list = [1,2,3,4,5,6,\"ajay\",\"shubham\"]\n",
    "my_tuple= (1,2,3,4,7)\n",
    "\n",
    "# Attempting to change an element in the list\n",
    "my_list[0] = \"raja\"\n",
    "print(\"Modified List:\", my_list)\n",
    "#Attemping to change an element in the tuple\n",
    "try:\n",
    "    my_tuple[0] = 10\n",
    "except TypeError as e:\n",
    "    print(\"Error:\", e)\n",
    "\n"
   ]
  },
  {
   "cell_type": "code",
   "execution_count": null,
   "metadata": {},
   "outputs": [
    {
     "name": "stdout",
     "output_type": "stream",
     "text": [
      "the all is coulors ['red', 'yellow', 'green', 'blue', 'black']\n",
      "the all is coulors ['red', 'yellow', 'green', 'siliver', 'black']\n",
      "my wish_list ('red_fort', 'greenland', 'tajmahal', 'ganga')\n",
      "error: 'tuple' object does not support item assignment\n"
     ]
    }
   ],
   "source": [
    "#6->  Write a function to demonstrate the behavior of mutable and immutable arguments.\n",
    "#Ans->\n",
    "#behavior of mutable\n",
    "color = [\"red\" , \"yellow\" , \"green\" ,\"blue\" , \"black\"]\n",
    "print(\"the all is coulors\",color)\n",
    "color[3] = \"siliver\"\n",
    "print(\"the all is coulors\",color)#objects/container whose state or value can be changed after they are created \n",
    "#behavior of immutable\n",
    "tuple =(\"red_fort\",\"greenland\",\"tajmahal\",\"ganga\")\n",
    "print(\"my wish_list\",tuple)\n",
    "try:\n",
    "    tuple [0] = \"himalaya\"\n",
    "except TypeError as e:\n",
    "    print(\"error:\" , e) #objects/container whose state or value can not  be changed after they are created \n"
   ]
  },
  {
   "cell_type": "code",
   "execution_count": 13,
   "metadata": {},
   "outputs": [
    {
     "name": "stdout",
     "output_type": "stream",
     "text": [
      "Numbers are : 78 45\n",
      "sum 123\n",
      "difference  33\n",
      "product 3510\n",
      "division 1.7333333333333334\n",
      "module 33\n"
     ]
    }
   ],
   "source": [
    "#7-> Write a program that performs basic arithmetic operations on two user-input numbers.\n",
    "#Ans->\n",
    "num1 = int(input(\"enter the frist number\"))\n",
    "num2 =  int(input(\"enter the second  number\"))\n",
    "sum = num1 + num2\n",
    "diff = num1 - num2\n",
    "mult = num1 * num2\n",
    "div = num1 / num2\n",
    "mod = num1 % num2\n",
    "print(\"Numbers are :\", num1 ,num2)\n",
    "print (\"sum\" , sum)\n",
    "print(\"difference \", diff)\n",
    "print(\"product\" , mult)\n",
    "print(\"division\" , div)\n",
    "print(\"module\" , mod)\n"
   ]
  },
  {
   "cell_type": "code",
   "execution_count": 20,
   "metadata": {},
   "outputs": [
    {
     "name": "stdout",
     "output_type": "stream",
     "text": [
      "False\n",
      "True\n",
      "True\n"
     ]
    }
   ],
   "source": [
    "#8-> Write a program to demonstrate the use of logical operators.\n",
    "#Ans->\n",
    "x = int(input(\"enter the frist number\"))\n",
    "y = int (input(\"enter the second number \"))\n",
    "# And logical oprator \n",
    "print( x==y and  y==x) #  both condition are true \n",
    "# or logical oprator\n",
    "a = 100\n",
    "b = 150\n",
    "print(a==b or b>a)# atleast one condition are true\n",
    "# not logical oprator\n",
    "a = 100\n",
    "b = 150\n",
    "print(not(a==b or b<a))# give reverse ans\n",
    "\n",
    "\n",
    "\n",
    "\n"
   ]
  },
  {
   "cell_type": "code",
   "execution_count": 27,
   "metadata": {},
   "outputs": [
    {
     "name": "stdout",
     "output_type": "stream",
     "text": [
      "78\n",
      "<class 'str'>\n",
      "78\n",
      "<class 'int'>\n",
      "78.0\n",
      "<class 'float'>\n",
      "True\n",
      "<class 'bool'>\n"
     ]
    }
   ],
   "source": [
    "#9-> Write a Python program to convert user input from string to integer, float, and boolean types.\n",
    "#Ans-> \n",
    "user = input(\"enter the value \")\n",
    "print(user)\n",
    "print(type(user))\n",
    "#change into ingeter \n",
    "user = int(input(\"enetr the value \"))\n",
    "print(user)\n",
    "print(type(user))\n",
    "#change float\n",
    "user = float(input(\"enetr the value \"))\n",
    "print(user)\n",
    "print(type(user))\n",
    "#change into boolean\n",
    "user = bool(input(\"enetr the value \"))\n",
    "print(user)\n",
    "print(type(user))\n",
    "\n",
    "\n",
    "\n"
   ]
  },
  {
   "cell_type": "code",
   "execution_count": null,
   "metadata": {},
   "outputs": [
    {
     "name": "stdout",
     "output_type": "stream",
     "text": [
      "Original List: ['10', '20.5', 'True', '30']\n",
      "New List with Type Casting: [10, 20.5, True, 30]\n"
     ]
    }
   ],
   "source": [
    "#10-> Write code to demonstrate type casting with list elements.\n",
    "#Ans->\n",
    "my_list = ['10', '20.5', 'True', '30']\n",
    "\n",
    "# Type casting list elements\n",
    "new_list = []\n",
    "for element in my_list:\n",
    "  try:\n",
    "    new_list.append(int(element))\n",
    "  except ValueError:\n",
    "    try:\n",
    "      new_list.append(float(element))\n",
    "    except ValueError:\n",
    "      if element.lower() == 'true':\n",
    "        new_list.append(True)\n",
    "      elif element.lower() == 'false':\n",
    "        new_list.append(False)\n",
    "      else:\n",
    "        new_list.append(element)\n",
    "\n",
    "print(\"Original List:\", my_list)\n",
    "print(\"New List with Type Casting:\", new_list) "
   ]
  },
  {
   "cell_type": "code",
   "execution_count": 30,
   "metadata": {},
   "outputs": [
    {
     "name": "stdout",
     "output_type": "stream",
     "text": [
      "the number is zero\n"
     ]
    }
   ],
   "source": [
    "#11-> Write a program that checks if a number is positive, negative, or zero. using \n",
    "#Ans->\n",
    "num = int(input(\"enter the value\"))\n",
    "if num > 0:\n",
    "    print(\"the number is positive\")\n",
    "elif num<0:\n",
    "    print(\"the number is negative\")\n",
    "else:\n",
    "    print(\"the number is zero\")\n"
   ]
  },
  {
   "cell_type": "code",
   "execution_count": 31,
   "metadata": {},
   "outputs": [
    {
     "name": "stdout",
     "output_type": "stream",
     "text": [
      "1\n",
      "2\n",
      "3\n",
      "4\n",
      "5\n",
      "6\n",
      "7\n",
      "8\n",
      "9\n",
      "10\n"
     ]
    }
   ],
   "source": [
    "#12->  Write a for loop to print numbers from 1 to 10.\n",
    "#Ans \n",
    "n = 1\n",
    "i = 1\n",
    "while i<11:\n",
    "    print(i)\n",
    "    i +=1"
   ]
  },
  {
   "cell_type": "code",
   "execution_count": 36,
   "metadata": {},
   "outputs": [
    {
     "name": "stdout",
     "output_type": "stream",
     "text": [
      "sum of even numbers= 2\n",
      "sum of even numbers= 6\n",
      "sum of even numbers= 12\n",
      "sum of even numbers= 20\n",
      "sum of even numbers= 30\n",
      "sum of even numbers= 42\n",
      "sum of even numbers= 56\n",
      "sum of even numbers= 72\n",
      "sum of even numbers= 90\n",
      "sum of even numbers= 110\n",
      "sum of even numbers= 132\n",
      "sum of even numbers= 156\n",
      "sum of even numbers= 182\n",
      "sum of even numbers= 210\n",
      "sum of even numbers= 240\n",
      "sum of even numbers= 272\n",
      "sum of even numbers= 306\n",
      "sum of even numbers= 342\n",
      "sum of even numbers= 380\n",
      "sum of even numbers= 420\n",
      "sum of even numbers= 462\n",
      "sum of even numbers= 506\n",
      "sum of even numbers= 552\n",
      "sum of even numbers= 600\n",
      "sum of even numbers= 650\n"
     ]
    }
   ],
   "source": [
    "#13->  Write a Python program to find the sum of all even numbers between 1 and 50 .\n",
    "n = 50\n",
    "i = 2\n",
    "sum =0\n",
    "while(i<=50):\n",
    "     sum=sum+i\n",
    "     i=i+2\n",
    "     print(\"sum of even numbers=\",sum)  \n",
    "\n"
   ]
  },
  {
   "cell_type": "code",
   "execution_count": 32,
   "metadata": {},
   "outputs": [
    {
     "name": "stdout",
     "output_type": "stream",
     "text": [
      "mahbuhs"
     ]
    }
   ],
   "source": [
    "#14. Write a program to reverse a string using a while loop.\n",
    "sentence = input(\"enter the sentence \")\n",
    "words = sentence.split()\n",
    "for word in words:\n",
    "    i = len(word)-1\n",
    "    while i>=0:\n",
    "        print(word[i] ,end=\"\" )\n",
    "        i-=1\n",
    "   "
   ]
  },
  {
   "cell_type": "code",
   "execution_count": 35,
   "metadata": {},
   "outputs": [
    {
     "name": "stdout",
     "output_type": "stream",
     "text": [
      "factorial of  8 is  40320\n"
     ]
    }
   ],
   "source": [
    "#15->  Write a Python program to calculate the factorial of a number provided by the user using a while loop.\n",
    "num = int(input(\"enter the number:\"))\n",
    "fact = 1 \n",
    "for i in range (1,num+1):\n",
    "    fact = fact * i\n",
    "print(\"factorial of \" , num , \"is \" , fact)"
   ]
  },
  {
   "cell_type": "code",
   "execution_count": null,
   "metadata": {},
   "outputs": [],
   "source": []
  },
  {
   "cell_type": "code",
   "execution_count": null,
   "metadata": {},
   "outputs": [],
   "source": [
    "\n"
   ]
  }
 ],
 "metadata": {
  "kernelspec": {
   "display_name": "Python 3",
   "language": "python",
   "name": "python3"
  },
  "language_info": {
   "codemirror_mode": {
    "name": "ipython",
    "version": 3
   },
   "file_extension": ".py",
   "mimetype": "text/x-python",
   "name": "python",
   "nbconvert_exporter": "python",
   "pygments_lexer": "ipython3",
   "version": "3.13.0"
  }
 },
 "nbformat": 4,
 "nbformat_minor": 2
}
